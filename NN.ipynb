{
 "cells": [
  {
   "cell_type": "markdown",
   "metadata": {},
   "source": [
    "What is backpropagation?\\\n",
    "Ans: backpropagation is a method of learning that uses a gradient descent algorithm to find the optimal weights of a neural network.\n",
    "\n",
    "What is forward propagation?\\\n",
    "Ans: forward propagation is the process of passing an input through a neural network to get the output.\n",
    "\n",
    "What is gradient descent?\\\n",
    "Ans: gradient descent is an algorithm that uses a gradient to find the optimal weights of a neural network.\n",
    "\n",
    "What is activation function?\\\n",
    "Ans: activation function is a function that takes an input and returns an output.\n",
    "\n",
    "Why we need activation function?\\\n",
    "Ans: activation function is used to make sure that the output is between 0 and 1.\n",
    "\n",
    "Why we will sigmoid function?\\\n",
    "ans: The main reason why we use sigmoid function is because it exists between (0 to 1). Therefore, it is especially used for models where we have to predict the probability as an output.\n"
   ]
  },
  {
   "cell_type": "code",
   "execution_count": 37,
   "metadata": {},
   "outputs": [],
   "source": [
    "# Neural Network from scratch\n",
    "import numpy as np\n",
    "import matplotlib.pyplot as plt\n",
    "import pandas as pd\n",
    "\n"
   ]
  },
  {
   "cell_type": "code",
   "execution_count": 38,
   "metadata": {},
   "outputs": [],
   "source": [
    "# Load dataset 0 mnist\n",
    "from matplotlib import image\n",
    "image_path = 'trainingSet/0'"
   ]
  },
  {
   "cell_type": "code",
   "execution_count": 39,
   "metadata": {},
   "outputs": [
    {
     "name": "stdout",
     "output_type": "stream",
     "text": [
      "4132\n"
     ]
    }
   ],
   "source": [
    "#Show how many images are in the folder\n",
    "print(len(os.listdir(image_path)))"
   ]
  },
  {
   "cell_type": "code",
   "execution_count": 40,
   "metadata": {},
   "outputs": [
    {
     "data": {
      "text/plain": [
       "<matplotlib.image.AxesImage at 0x7f743854be50>"
      ]
     },
     "execution_count": 40,
     "metadata": {},
     "output_type": "execute_result"
    },
    {
     "data": {
      "image/png": "[encoded data removed]",
      "text/plain": [
       "<Figure size 432x288 with 1 Axes>"
      ]
     },
     "metadata": {
      "needs_background": "light"
     },
     "output_type": "display_data"
    }
   ],
   "source": [
    "#show one image\n",
    "image_file = os.path.join(image_path, os.listdir(image_path)[0])\n",
    "img = image.imread(image_file)\n",
    "plt.imshow(img)"
   ]
  },
  {
   "cell_type": "code",
   "execution_count": 47,
   "metadata": {},
   "outputs": [],
   "source": [
    "# Image binarization\n",
    "def binarize(img):\n",
    "    img = img.astype(np.float32)\n",
    "    img = np.where(img < 0.5, 0, 1)\n",
    "    return img\n",
    "    "
   ]
  },
  {
   "cell_type": "code",
   "execution_count": 48,
   "metadata": {},
   "outputs": [
    {
     "name": "stdout",
     "output_type": "stream",
     "text": [
      "(1, 784)\n"
     ]
    }
   ],
   "source": [
    "#Load the 1st image matrix\n",
    "image_file = os.path.join(image_path, os.listdir(image_path)[0])\n",
    "img = image.imread(image_file)\n",
    "img = binarize(img)\n",
    "img = img.reshape(1,784)\n",
    "print(img.shape)\n",
    "\n",
    "\n"
   ]
  },
  {
   "cell_type": "code",
   "execution_count": 49,
   "metadata": {},
   "outputs": [
    {
     "data": {
      "image/png": "[encoded data removed]",
      "text/plain": [
       "<Figure size 432x288 with 1 Axes>"
      ]
     },
     "metadata": {
      "needs_background": "light"
     },
     "output_type": "display_data"
    }
   ],
   "source": [
    "# Show the matrix\n",
    "plt.imshow(img.reshape(28,28), cmap='gray')\n",
    "plt.show()"
   ]
  },
  {
   "cell_type": "code",
   "execution_count": 50,
   "metadata": {},
   "outputs": [
    {
     "name": "stdout",
     "output_type": "stream",
     "text": [
      "[[0 0 0 0 0 0 0 0 0 1 0 0 1 0 1 1 0 1 0 0 1 1 0 1 0 0 0 0 0 0 0 0 0 0 0 0\n",
      "  1 0 1 0 1 1 0 1 1 0 0 1 0 0 1 0 0 0 0 0 0 0 0 0 0 0 0 0 0 0 1 0 0 0 1 0\n",
      "  0 1 1 0 0 1 1 1 0 0 0 0 0 0 0 0 0 0 0 0 1 0 0 1 0 1 0 0 0 1 1 0 0 1 0 1\n",
      "  0 0 0 0 0 0 0 0 0 0 0 0 1 1 0 0 1 0 1 1 1 1 0 1 0 0 0 1 0 0 0 0 0 0 0 0\n",
      "  0 0 0 0 0 1 1 0 1 1 1 1 1 1 1 0 0 1 1 1 0 0 0 0 0 0 0 0 0 0 0 0 1 0 0 1\n",
      "  1 1 1 1 1 1 1 1 0 1 0 0 0 0 0 0 0 0 0 0 0 0 0 0 0 1 1 1 1 1 1 1 1 1 1 1\n",
      "  1 0 1 1 0 0 0 0 1 0 1 0 1 0 0 0 0 0 1 1 1 1 1 1 1 1 1 1 1 1 0 1 0 0 0 0\n",
      "  1 0 1 0 1 0 1 0 0 1 1 1 1 1 1 1 1 1 1 1 1 1 0 0 0 0 0 0 0 0 1 0 0 0 1 0\n",
      "  1 1 1 1 1 1 0 1 0 1 1 1 1 1 1 0 0 0 0 0 0 1 0 1 0 0 1 0 1 1 1 1 1 0 1 1\n",
      "  0 1 0 1 1 1 1 1 0 0 0 0 0 1 0 1 1 0 0 1 1 1 1 1 1 0 1 0 1 0 1 1 1 1 1 1\n",
      "  0 0 0 0 1 1 0 1 1 0 0 1 1 1 1 1 0 1 0 1 1 1 1 0 1 1 1 1 0 0 0 0 1 0 0 0\n",
      "  1 0 1 1 1 1 1 1 1 0 0 1 0 1 0 1 1 1 1 1 0 0 0 0 1 0 1 0 0 1 1 1 1 1 1 1\n",
      "  1 0 1 0 1 1 0 0 1 1 1 1 0 0 0 0 0 1 1 1 1 0 1 1 1 1 1 0 1 1 0 1 0 1 0 0\n",
      "  1 1 1 1 0 0 0 0 1 0 0 1 0 1 1 1 1 1 1 1 0 0 1 0 0 1 0 1 1 1 1 1 0 0 0 0\n",
      "  0 1 0 1 0 0 1 1 1 1 0 0 0 0 0 0 1 0 1 1 1 1 1 1 0 0 0 0 0 1 0 0 1 0 1 1\n",
      "  1 1 0 1 1 1 1 0 0 1 1 1 1 1 1 1 0 0 0 0 0 0 1 0 0 1 1 1 1 1 1 0 0 0 0 1\n",
      "  0 1 1 1 1 1 1 0 0 0 0 0 1 0 1 0 1 0 1 1 1 1 1 0 1 1 0 1 1 1 1 1 1 1 1 1\n",
      "  0 0 0 0 0 1 0 1 1 0 1 1 1 1 1 1 1 1 1 1 1 1 1 1 1 0 0 1 0 0 0 0 1 1 0 0\n",
      "  0 1 1 1 1 1 1 1 1 1 1 1 1 1 1 0 1 0 1 0 0 0 0 0 0 0 0 0 0 0 0 0 0 0 0 0\n",
      "  0 0 0 0 0 0 0 0 0 0 0 0 0 0 0 0 0 0 0 0 0 0 0 0 0 0 0 0 0 0 0 0 0 0 0 0\n",
      "  0 0 0 0 0 0 0 0 0 0 0 0 0 0 0 0 0 0 0 0 0 0 0 0 0 0 0 0 0 0 0 0 0 0 0 0\n",
      "  0 0 0 0 0 0 0 0 0 0 0 0 0 0 0 0 0 0 0 0 0 0 0 0 0 0 0 0]]\n"
     ]
    }
   ],
   "source": [
    "#show the binary matrix using 0 and 1\n",
    "print(img)"
   ]
  },
  {
   "cell_type": "markdown",
   "metadata": {},
   "source": [
    "### Define the weights and bias\n",
    "##### Here 1 is the number of input neurons and 2 is the number of output neurons.\n",
    "##### The weights are randomly initialized between -1 and 1.\n",
    "##### 784 is the number of pixels in the image."
   ]
  },
  {
   "cell_type": "code",
   "execution_count": 53,
   "metadata": {},
   "outputs": [],
   "source": [
    "\n",
    "weights = np.random.randn(1, 784)\n",
    "bias = np.random.randn()\n"
   ]
  },
  {
   "cell_type": "code",
   "execution_count": 54,
   "metadata": {},
   "outputs": [],
   "source": [
    "# Define the activation function\n",
    "def sigmoid(x):\n",
    "    return 1/(1+np.exp(-x))\n",
    "    "
   ]
  },
  {
   "cell_type": "code",
   "execution_count": 55,
   "metadata": {},
   "outputs": [],
   "source": [
    "# Define the derivative of the activation function\n",
    "def sigmoid_derivative(x):\n",
    "    return x*(1-x)"
   ]
  },
  {
   "cell_type": "code",
   "execution_count": 56,
   "metadata": {},
   "outputs": [],
   "source": [
    "# Define the forward propagation\n",
    "def forward_propagation(x, weights, bias):\n",
    "    return sigmoid(np.dot(x, weights) + bias)\n",
    "    "
   ]
  },
  {
   "cell_type": "code",
   "execution_count": 57,
   "metadata": {},
   "outputs": [],
   "source": [
    "# Define the cost function\n",
    "def cost_function(x, y, weights, bias):\n",
    "    return -(y*np.log(forward_propagation(x, weights, bias)) + (1-y)*np.log(1-forward_propagation(x, weights, bias)))"
   ]
  },
  {
   "cell_type": "code",
   "execution_count": 58,
   "metadata": {},
   "outputs": [],
   "source": [
    "# Perceptron learning rule\n",
    "def perceptron_learning_rule(x, y, weights, bias, learning_rate):\n",
    "    # Forward propagation\n",
    "    prediction = forward_propagation(x, weights, bias)\n",
    "    # Backpropagation\n",
    "    weights += learning_rate * np.dot(x.T, (y - prediction))\n",
    "    bias += learning_rate * (y - prediction)\n",
    "    return weights, bias\n",
    "    "
   ]
  },
  {
   "cell_type": "code",
   "execution_count": 59,
   "metadata": {},
   "outputs": [],
   "source": [
    "# Define the training function\n",
    "def train_perceptron(x, y, weights, bias, learning_rate, epochs):\n",
    "    # Initialize the cost array\n",
    "    cost = []\n",
    "    # Loop over the number of epochs\n",
    "    for i in range(epochs):\n",
    "        # Perceptron learning rule\n",
    "        weights, bias = perceptron_learning_rule(x, y, weights, bias, learning_rate)\n",
    "        # Append the cost to the cost array\n",
    "        cost.append(cost_function(x, y, weights, bias))\n",
    "    return weights, bias, cost"
   ]
  },
  {
   "cell_type": "code",
   "execution_count": 60,
   "metadata": {},
   "outputs": [],
   "source": [
    "# Define the predict function\n",
    "def predict(x, weights, bias):\n",
    "    return np.where(forward_propagation(x, weights, bias) >= 0.5, 1, 0)\n"
   ]
  }
 ],
 "metadata": {
  "kernelspec": {
   "display_name": "Python 3.8.10 64-bit",
   "language": "python",
   "name": "python3"
  },
  "language_info": {
   "codemirror_mode": {
    "name": "ipython",
    "version": 3
   },
   "file_extension": ".py",
   "mimetype": "text/x-python",
   "name": "python",
   "nbconvert_exporter": "python",
   "pygments_lexer": "ipython3",
   "version": "3.8.10"
  },
  "orig_nbformat": 4,
  "vscode": {
   "interpreter": {
    "hash": "916dbcbb3f70747c44a77c7bcd40155683ae19c65e1c03b4aa3499c5328201f1"
   }
  }
 },
 "nbformat": 4,
 "nbformat_minor": 2
}
