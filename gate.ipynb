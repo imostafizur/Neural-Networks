{
 "cells": [
  {
   "cell_type": "code",
   "execution_count": 1,
   "metadata": {},
   "outputs": [],
   "source": [
    "import numpy\n",
    "import pandas\n"
   ]
  },
  {
   "cell_type": "code",
   "execution_count": 2,
   "metadata": {},
   "outputs": [],
   "source": [
    "# Predict 2 inputs and and gate output\n",
    "def AND(x1, x2):\n",
    "    x = numpy.array([x1, x2]) # create array of inputs\n",
    "    w = numpy.array([0.5, 0.5]) # create array of weights\n",
    "    b = -0.7 # create bias\n",
    "    tmp = numpy.sum(w * x) + b # calculate output\n",
    "    if tmp <= 0:\n",
    "        return 0\n",
    "    else:\n",
    "        return 1"
   ]
  },
  {
   "cell_type": "code",
   "execution_count": 4,
   "metadata": {},
   "outputs": [
    {
     "name": "stdout",
     "output_type": "stream",
     "text": [
      "1\n"
     ]
    }
   ],
   "source": [
    "# take input\n",
    "x1 = int(input(\"x1: \"))\n",
    "x2 = int(input(\"x2: \"))\n",
    "print(AND(x1, x2))"
   ]
  },
  {
   "cell_type": "code",
   "execution_count": 10,
   "metadata": {},
   "outputs": [],
   "source": [
    "# 3 inputs and  Gate output\n",
    "def AND(x1, x2, x3):\n",
    "    x = numpy.array([x1, x2, x3]) # create array of inputs\n",
    "    w = numpy.array([0.5, 0.5, 0.5]) # create array of weights\n",
    "    b = -0.7 # create bias\n",
    "    tmp = numpy.sum(w * x) + b # calculate output\n",
    "    if tmp <= 0:\n",
    "        return 0\n",
    "    else:\n",
    "        return 1"
   ]
  },
  {
   "cell_type": "code",
   "execution_count": 11,
   "metadata": {},
   "outputs": [
    {
     "name": "stdout",
     "output_type": "stream",
     "text": [
      "0\n"
     ]
    }
   ],
   "source": [
    "# take input\n",
    "x1 = int(input(\"x1: \"))\n",
    "x2 = int(input(\"x2: \"))\n",
    "x3 = int(input(\"x3: \"))\n",
    "print(AND(x1, x2, x3))"
   ]
  },
  {
   "cell_type": "code",
   "execution_count": 17,
   "metadata": {},
   "outputs": [
    {
     "name": "stdout",
     "output_type": "stream",
     "text": [
      "[[0 0 0]\n",
      " [0 1 0]\n",
      " [1 0 0]\n",
      " [1 1 1]]\n"
     ]
    }
   ],
   "source": [
    "# training data\n",
    "training_data = matrix([[0, 0, 0], [0, 1, 0], [1, 0, 0], [1, 1, 1]])\n",
    "print(training_data)\n"
   ]
  },
  {
   "cell_type": "code",
   "execution_count": 18,
   "metadata": {},
   "outputs": [],
   "source": [
    "# Sigmoid function\n",
    "def sigmoid(x):\n",
    "    return 1 / (1 + numpy.exp(-x))"
   ]
  },
  {
   "cell_type": "code",
   "execution_count": 19,
   "metadata": {},
   "outputs": [],
   "source": [
    "# Sigmoid derivative\n",
    "def sigmoid_derivative(x):\n",
    "    return x * (1 - x)"
   ]
  },
  {
   "cell_type": "code",
   "execution_count": 20,
   "metadata": {},
   "outputs": [],
   "source": [
    "# Perceptron Learning Algorithm\n",
    "def train(training_data, epochs):\n",
    "    # create weights and bias\n",
    "    w = numpy.random.rand(3)\n",
    "    b = numpy.random.rand()\n",
    "    for i in range(epochs):\n",
    "        for x, y in training_data:\n",
    "            # forward propagation\n",
    "            z = numpy.dot(w, x) + b\n",
    "            pred = sigmoid(z)\n",
    "            # backward propagation\n",
    "            error = y - pred\n",
    "            # update weights and bias\n",
    "            w += error * sigmoid_derivative(z) * x\n",
    "            b += error * sigmoid_derivative(z)\n",
    "    return w, b"
   ]
  }
 ],
 "metadata": {
  "kernelspec": {
   "display_name": "Python 3.10.5 64-bit",
   "language": "python",
   "name": "python3"
  },
  "language_info": {
   "codemirror_mode": {
    "name": "ipython",
    "version": 3
   },
   "file_extension": ".py",
   "mimetype": "text/x-python",
   "name": "python",
   "nbconvert_exporter": "python",
   "pygments_lexer": "ipython3",
   "version": "3.10.5"
  },
  "orig_nbformat": 4,
  "vscode": {
   "interpreter": {
    "hash": "832e976a5a0a0691602b78d4cf796fbfd3bb83ddac3d3f18b848a0dce09b10f1"
   }
  }
 },
 "nbformat": 4,
 "nbformat_minor": 2
}
